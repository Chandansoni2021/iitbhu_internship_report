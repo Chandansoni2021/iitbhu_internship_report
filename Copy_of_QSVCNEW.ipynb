{
  "cells": [
    {
      "cell_type": "markdown",
      "source": [
        "*Installation of Qiskit*"
      ],
      "metadata": {
        "id": "Tvu9n_1m06My"
      }
    },
    {
      "cell_type": "code",
      "execution_count": null,
      "metadata": {
        "colab": {
          "base_uri": "https://localhost:8080/"
        },
        "id": "IS_evxPNR8xY",
        "outputId": "d9b64a34-8dc7-4cbe-8488-9dc6882a049a"
      },
      "outputs": [
        {
          "name": "stdout",
          "output_type": "stream",
          "text": [
            "Requirement already satisfied: qiskit in /usr/local/lib/python3.10/dist-packages (0.43.3)\n",
            "Requirement already satisfied: qiskit-terra==0.24.2 in /usr/local/lib/python3.10/dist-packages (from qiskit) (0.24.2)\n",
            "Requirement already satisfied: qiskit-aer==0.12.2 in /usr/local/lib/python3.10/dist-packages (from qiskit) (0.12.2)\n",
            "Requirement already satisfied: qiskit-ibmq-provider==0.20.2 in /usr/local/lib/python3.10/dist-packages (from qiskit) (0.20.2)\n",
            "Requirement already satisfied: numpy>=1.16.3 in /usr/local/lib/python3.10/dist-packages (from qiskit-aer==0.12.2->qiskit) (1.22.4)\n",
            "Requirement already satisfied: scipy>=1.0 in /usr/local/lib/python3.10/dist-packages (from qiskit-aer==0.12.2->qiskit) (1.10.1)\n",
            "Requirement already satisfied: requests>=2.19 in /usr/local/lib/python3.10/dist-packages (from qiskit-ibmq-provider==0.20.2->qiskit) (2.27.1)\n",
            "Requirement already satisfied: requests-ntlm<=1.1.0 in /usr/local/lib/python3.10/dist-packages (from qiskit-ibmq-provider==0.20.2->qiskit) (1.1.0)\n",
            "Requirement already satisfied: urllib3>=1.21.1 in /usr/local/lib/python3.10/dist-packages (from qiskit-ibmq-provider==0.20.2->qiskit) (1.26.16)\n",
            "Requirement already satisfied: python-dateutil>=2.8.0 in /usr/local/lib/python3.10/dist-packages (from qiskit-ibmq-provider==0.20.2->qiskit) (2.8.2)\n",
            "Requirement already satisfied: websocket-client>=1.5.1 in /usr/local/lib/python3.10/dist-packages (from qiskit-ibmq-provider==0.20.2->qiskit) (1.6.1)\n",
            "Requirement already satisfied: websockets>=10.0 in /usr/local/lib/python3.10/dist-packages (from qiskit-ibmq-provider==0.20.2->qiskit) (11.0.3)\n",
            "Requirement already satisfied: rustworkx>=0.12.0 in /usr/local/lib/python3.10/dist-packages (from qiskit-terra==0.24.2->qiskit) (0.13.0)\n",
            "Requirement already satisfied: ply>=3.10 in /usr/local/lib/python3.10/dist-packages (from qiskit-terra==0.24.2->qiskit) (3.11)\n",
            "Requirement already satisfied: psutil>=5 in /usr/local/lib/python3.10/dist-packages (from qiskit-terra==0.24.2->qiskit) (5.9.5)\n",
            "Requirement already satisfied: sympy>=1.3 in /usr/local/lib/python3.10/dist-packages (from qiskit-terra==0.24.2->qiskit) (1.11.1)\n",
            "Requirement already satisfied: dill>=0.3 in /usr/local/lib/python3.10/dist-packages (from qiskit-terra==0.24.2->qiskit) (0.3.7)\n",
            "Requirement already satisfied: stevedore>=3.0.0 in /usr/local/lib/python3.10/dist-packages (from qiskit-terra==0.24.2->qiskit) (5.1.0)\n",
            "Requirement already satisfied: symengine<0.10,>=0.9 in /usr/local/lib/python3.10/dist-packages (from qiskit-terra==0.24.2->qiskit) (0.9.2)\n",
            "Requirement already satisfied: six>=1.5 in /usr/local/lib/python3.10/dist-packages (from python-dateutil>=2.8.0->qiskit-ibmq-provider==0.20.2->qiskit) (1.16.0)\n",
            "Requirement already satisfied: certifi>=2017.4.17 in /usr/local/lib/python3.10/dist-packages (from requests>=2.19->qiskit-ibmq-provider==0.20.2->qiskit) (2023.7.22)\n",
            "Requirement already satisfied: charset-normalizer~=2.0.0 in /usr/local/lib/python3.10/dist-packages (from requests>=2.19->qiskit-ibmq-provider==0.20.2->qiskit) (2.0.12)\n",
            "Requirement already satisfied: idna<4,>=2.5 in /usr/local/lib/python3.10/dist-packages (from requests>=2.19->qiskit-ibmq-provider==0.20.2->qiskit) (3.4)\n",
            "Requirement already satisfied: ntlm-auth>=1.0.2 in /usr/local/lib/python3.10/dist-packages (from requests-ntlm<=1.1.0->qiskit-ibmq-provider==0.20.2->qiskit) (1.5.0)\n",
            "Requirement already satisfied: cryptography>=1.3 in /usr/lib/python3/dist-packages (from requests-ntlm<=1.1.0->qiskit-ibmq-provider==0.20.2->qiskit) (3.4.8)\n",
            "Requirement already satisfied: pbr!=2.1.0,>=2.0.0 in /usr/local/lib/python3.10/dist-packages (from stevedore>=3.0.0->qiskit-terra==0.24.2->qiskit) (5.11.1)\n",
            "Requirement already satisfied: mpmath>=0.19 in /usr/local/lib/python3.10/dist-packages (from sympy>=1.3->qiskit-terra==0.24.2->qiskit) (1.3.0)\n"
          ]
        }
      ],
      "source": [
        "!pip install qiskit\n"
      ]
    },
    {
      "cell_type": "markdown",
      "source": [
        "__Installation of qiskit_machine_learning__\n"
      ],
      "metadata": {
        "id": "pV7iqEQ23h4I"
      }
    },
    {
      "cell_type": "code",
      "execution_count": null,
      "metadata": {
        "colab": {
          "base_uri": "https://localhost:8080/"
        },
        "id": "9SZTxEd58JbU",
        "outputId": "6b65bf17-18d1-4a82-dc6b-ddf3d4a2c13a"
      },
      "outputs": [
        {
          "name": "stdout",
          "output_type": "stream",
          "text": [
            "Requirement already satisfied: qiskit_machine_learning in /usr/local/lib/python3.10/dist-packages (0.6.1)\n",
            "Requirement already satisfied: qiskit-terra>=0.22.2 in /usr/local/lib/python3.10/dist-packages (from qiskit_machine_learning) (0.24.2)\n",
            "Requirement already satisfied: scipy>=1.4 in /usr/local/lib/python3.10/dist-packages (from qiskit_machine_learning) (1.10.1)\n",
            "Requirement already satisfied: numpy>=1.17 in /usr/local/lib/python3.10/dist-packages (from qiskit_machine_learning) (1.22.4)\n",
            "Requirement already satisfied: psutil>=5 in /usr/local/lib/python3.10/dist-packages (from qiskit_machine_learning) (5.9.5)\n",
            "Requirement already satisfied: scikit-learn>=0.20.0 in /usr/local/lib/python3.10/dist-packages (from qiskit_machine_learning) (1.2.2)\n",
            "Requirement already satisfied: fastdtw in /usr/local/lib/python3.10/dist-packages (from qiskit_machine_learning) (0.3.4)\n",
            "Requirement already satisfied: setuptools>=40.1.0 in /usr/local/lib/python3.10/dist-packages (from qiskit_machine_learning) (67.7.2)\n",
            "Requirement already satisfied: dill>=0.3.4 in /usr/local/lib/python3.10/dist-packages (from qiskit_machine_learning) (0.3.7)\n",
            "Requirement already satisfied: rustworkx>=0.12.0 in /usr/local/lib/python3.10/dist-packages (from qiskit-terra>=0.22.2->qiskit_machine_learning) (0.13.0)\n",
            "Requirement already satisfied: ply>=3.10 in /usr/local/lib/python3.10/dist-packages (from qiskit-terra>=0.22.2->qiskit_machine_learning) (3.11)\n",
            "Requirement already satisfied: sympy>=1.3 in /usr/local/lib/python3.10/dist-packages (from qiskit-terra>=0.22.2->qiskit_machine_learning) (1.11.1)\n",
            "Requirement already satisfied: python-dateutil>=2.8.0 in /usr/local/lib/python3.10/dist-packages (from qiskit-terra>=0.22.2->qiskit_machine_learning) (2.8.2)\n",
            "Requirement already satisfied: stevedore>=3.0.0 in /usr/local/lib/python3.10/dist-packages (from qiskit-terra>=0.22.2->qiskit_machine_learning) (5.1.0)\n",
            "Requirement already satisfied: symengine<0.10,>=0.9 in /usr/local/lib/python3.10/dist-packages (from qiskit-terra>=0.22.2->qiskit_machine_learning) (0.9.2)\n",
            "Requirement already satisfied: joblib>=1.1.1 in /usr/local/lib/python3.10/dist-packages (from scikit-learn>=0.20.0->qiskit_machine_learning) (1.3.1)\n",
            "Requirement already satisfied: threadpoolctl>=2.0.0 in /usr/local/lib/python3.10/dist-packages (from scikit-learn>=0.20.0->qiskit_machine_learning) (3.2.0)\n",
            "Requirement already satisfied: six>=1.5 in /usr/local/lib/python3.10/dist-packages (from python-dateutil>=2.8.0->qiskit-terra>=0.22.2->qiskit_machine_learning) (1.16.0)\n",
            "Requirement already satisfied: pbr!=2.1.0,>=2.0.0 in /usr/local/lib/python3.10/dist-packages (from stevedore>=3.0.0->qiskit-terra>=0.22.2->qiskit_machine_learning) (5.11.1)\n",
            "Requirement already satisfied: mpmath>=0.19 in /usr/local/lib/python3.10/dist-packages (from sympy>=1.3->qiskit-terra>=0.22.2->qiskit_machine_learning) (1.3.0)\n"
          ]
        }
      ],
      "source": [
        "!pip install qiskit_machine_learning\n"
      ]
    },
    {
      "cell_type": "code",
      "execution_count": null,
      "metadata": {
        "id": "7R4SfzOdZcw7"
      },
      "outputs": [],
      "source": [
        "from qiskit.utils import algorithm_globals\n",
        "from qiskit.circuit.library import ZZFeatureMap\n",
        "from qiskit.circuit.library import ZFeatureMap\n",
        "from qiskit_machine_learning.algorithms import QSVC\n",
        "from qiskit_machine_learning.kernels import QuantumKernel\n",
        "#from qiskit.optimization import OptimizerResult\n",
        "from qiskit.utils import QuantumInstance\n",
        "from qiskit import Aer\n",
        "import numpy as np\n",
        "import pandas as pd\n",
        "from sklearn.metrics import classification_report\n",
        "from sklearn.model_selection import train_test_split"
      ]
    },
    {
      "cell_type": "code",
      "execution_count": null,
      "metadata": {
        "colab": {
          "base_uri": "https://localhost:8080/"
        },
        "id": "9Nd7jFSaaMA-",
        "outputId": "2ac79996-31dc-4aa9-c3c5-a1a579e092ae"
      },
      "outputs": [
        {
          "name": "stderr",
          "output_type": "stream",
          "text": [
            "<ipython-input-6-add2d539c946>:9: DeprecationWarning: The class ``qiskit.utils.quantum_instance.QuantumInstance`` is deprecated as of qiskit-terra 0.24.0. It will be removed no earlier than 3 months after the release date. For code migration guidelines, visit https://qisk.it/qi_migration.\n",
            "  quantum_instance=QuantumInstance(backend))\n"
          ]
        }
      ],
      "source": [
        "algorithm_globals.random_seed = 12345\n",
        "\n",
        "backend = Aer.get_backend('aer_simulator')\n",
        "\n",
        "adhoc_dimension = 4\n",
        "adhoc_feature_map = ZZFeatureMap(feature_dimension=adhoc_dimension,\n",
        "reps=2)\n",
        "adhoc_kernel = QuantumKernel(feature_map=adhoc_feature_map,\n",
        "quantum_instance=QuantumInstance(backend))\n",
        "\n"
      ]
    },
    {
      "cell_type": "code",
      "execution_count": null,
      "metadata": {
        "colab": {
          "base_uri": "https://localhost:8080/"
        },
        "id": "UK1nDtJB62we",
        "outputId": "2d11c0eb-1b5a-4515-c0d9-5edd79aad480"
      },
      "outputs": [
        {
          "name": "stdout",
          "output_type": "stream",
          "text": [
            "Requirement already satisfied: qiskit-aer in /usr/local/lib/python3.10/dist-packages (0.12.2)\n",
            "Requirement already satisfied: qiskit-terra>=0.21.0 in /usr/local/lib/python3.10/dist-packages (from qiskit-aer) (0.24.2)\n",
            "Requirement already satisfied: numpy>=1.16.3 in /usr/local/lib/python3.10/dist-packages (from qiskit-aer) (1.22.4)\n",
            "Requirement already satisfied: scipy>=1.0 in /usr/local/lib/python3.10/dist-packages (from qiskit-aer) (1.10.1)\n",
            "Requirement already satisfied: rustworkx>=0.12.0 in /usr/local/lib/python3.10/dist-packages (from qiskit-terra>=0.21.0->qiskit-aer) (0.13.0)\n",
            "Requirement already satisfied: ply>=3.10 in /usr/local/lib/python3.10/dist-packages (from qiskit-terra>=0.21.0->qiskit-aer) (3.11)\n",
            "Requirement already satisfied: psutil>=5 in /usr/local/lib/python3.10/dist-packages (from qiskit-terra>=0.21.0->qiskit-aer) (5.9.5)\n",
            "Requirement already satisfied: sympy>=1.3 in /usr/local/lib/python3.10/dist-packages (from qiskit-terra>=0.21.0->qiskit-aer) (1.11.1)\n",
            "Requirement already satisfied: dill>=0.3 in /usr/local/lib/python3.10/dist-packages (from qiskit-terra>=0.21.0->qiskit-aer) (0.3.7)\n",
            "Requirement already satisfied: python-dateutil>=2.8.0 in /usr/local/lib/python3.10/dist-packages (from qiskit-terra>=0.21.0->qiskit-aer) (2.8.2)\n",
            "Requirement already satisfied: stevedore>=3.0.0 in /usr/local/lib/python3.10/dist-packages (from qiskit-terra>=0.21.0->qiskit-aer) (5.1.0)\n",
            "Requirement already satisfied: symengine<0.10,>=0.9 in /usr/local/lib/python3.10/dist-packages (from qiskit-terra>=0.21.0->qiskit-aer) (0.9.2)\n",
            "Requirement already satisfied: six>=1.5 in /usr/local/lib/python3.10/dist-packages (from python-dateutil>=2.8.0->qiskit-terra>=0.21.0->qiskit-aer) (1.16.0)\n",
            "Requirement already satisfied: pbr!=2.1.0,>=2.0.0 in /usr/local/lib/python3.10/dist-packages (from stevedore>=3.0.0->qiskit-terra>=0.21.0->qiskit-aer) (5.11.1)\n",
            "Requirement already satisfied: mpmath>=0.19 in /usr/local/lib/python3.10/dist-packages (from sympy>=1.3->qiskit-terra>=0.21.0->qiskit-aer) (1.3.0)\n"
          ]
        }
      ],
      "source": [
        "pip install qiskit-aer\n"
      ]
    },
    {
      "cell_type": "code",
      "execution_count": null,
      "metadata": {
        "colab": {
          "base_uri": "https://localhost:8080/",
          "height": 144
        },
        "id": "x5rhsELdbo39",
        "outputId": "8679a937-42d3-455f-c574-506f2e206bef"
      },
      "outputs": [
        {
          "data": {
            "text/html": [
              "<style>#sk-container-id-1 {color: black;background-color: white;}#sk-container-id-1 pre{padding: 0;}#sk-container-id-1 div.sk-toggleable {background-color: white;}#sk-container-id-1 label.sk-toggleable__label {cursor: pointer;display: block;width: 100%;margin-bottom: 0;padding: 0.3em;box-sizing: border-box;text-align: center;}#sk-container-id-1 label.sk-toggleable__label-arrow:before {content: \"▸\";float: left;margin-right: 0.25em;color: #696969;}#sk-container-id-1 label.sk-toggleable__label-arrow:hover:before {color: black;}#sk-container-id-1 div.sk-estimator:hover label.sk-toggleable__label-arrow:before {color: black;}#sk-container-id-1 div.sk-toggleable__content {max-height: 0;max-width: 0;overflow: hidden;text-align: left;background-color: #f0f8ff;}#sk-container-id-1 div.sk-toggleable__content pre {margin: 0.2em;color: black;border-radius: 0.25em;background-color: #f0f8ff;}#sk-container-id-1 input.sk-toggleable__control:checked~div.sk-toggleable__content {max-height: 200px;max-width: 100%;overflow: auto;}#sk-container-id-1 input.sk-toggleable__control:checked~label.sk-toggleable__label-arrow:before {content: \"▾\";}#sk-container-id-1 div.sk-estimator input.sk-toggleable__control:checked~label.sk-toggleable__label {background-color: #d4ebff;}#sk-container-id-1 div.sk-label input.sk-toggleable__control:checked~label.sk-toggleable__label {background-color: #d4ebff;}#sk-container-id-1 input.sk-hidden--visually {border: 0;clip: rect(1px 1px 1px 1px);clip: rect(1px, 1px, 1px, 1px);height: 1px;margin: -1px;overflow: hidden;padding: 0;position: absolute;width: 1px;}#sk-container-id-1 div.sk-estimator {font-family: monospace;background-color: #f0f8ff;border: 1px dotted black;border-radius: 0.25em;box-sizing: border-box;margin-bottom: 0.5em;}#sk-container-id-1 div.sk-estimator:hover {background-color: #d4ebff;}#sk-container-id-1 div.sk-parallel-item::after {content: \"\";width: 100%;border-bottom: 1px solid gray;flex-grow: 1;}#sk-container-id-1 div.sk-label:hover label.sk-toggleable__label {background-color: #d4ebff;}#sk-container-id-1 div.sk-serial::before {content: \"\";position: absolute;border-left: 1px solid gray;box-sizing: border-box;top: 0;bottom: 0;left: 50%;z-index: 0;}#sk-container-id-1 div.sk-serial {display: flex;flex-direction: column;align-items: center;background-color: white;padding-right: 0.2em;padding-left: 0.2em;position: relative;}#sk-container-id-1 div.sk-item {position: relative;z-index: 1;}#sk-container-id-1 div.sk-parallel {display: flex;align-items: stretch;justify-content: center;background-color: white;position: relative;}#sk-container-id-1 div.sk-item::before, #sk-container-id-1 div.sk-parallel-item::before {content: \"\";position: absolute;border-left: 1px solid gray;box-sizing: border-box;top: 0;bottom: 0;left: 50%;z-index: -1;}#sk-container-id-1 div.sk-parallel-item {display: flex;flex-direction: column;z-index: 1;position: relative;background-color: white;}#sk-container-id-1 div.sk-parallel-item:first-child::after {align-self: flex-end;width: 50%;}#sk-container-id-1 div.sk-parallel-item:last-child::after {align-self: flex-start;width: 50%;}#sk-container-id-1 div.sk-parallel-item:only-child::after {width: 0;}#sk-container-id-1 div.sk-dashed-wrapped {border: 1px dashed gray;margin: 0 0.4em 0.5em 0.4em;box-sizing: border-box;padding-bottom: 0.4em;background-color: white;}#sk-container-id-1 div.sk-label label {font-family: monospace;font-weight: bold;display: inline-block;line-height: 1.2em;}#sk-container-id-1 div.sk-label-container {text-align: center;}#sk-container-id-1 div.sk-container {/* jupyter's `normalize.less` sets `[hidden] { display: none; }` but bootstrap.min.css set `[hidden] { display: none !important; }` so we also need the `!important` here to be able to override the default hidden behavior on the sphinx rendered scikit-learn.org. See: https://github.com/scikit-learn/scikit-learn/issues/21755 */display: inline-block !important;position: relative;}#sk-container-id-1 div.sk-text-repr-fallback {display: none;}</style><div id=\"sk-container-id-1\" class=\"sk-top-container\"><div class=\"sk-text-repr-fallback\"><pre>QSVC(C=1.0, break_ties=False, cache_size=200, class_weight=None, coef0=0.0,\n",
              "     decision_function_shape=&#x27;ovr&#x27;, degree=3, gamma=&#x27;scale&#x27;, max_iter=-1,\n",
              "     probability=False,\n",
              "     quantum_kernel=&lt;qiskit_machine_learning.kernels.quantum_kernel.QuantumKernel object at 0x7b51315b8af0&gt;,\n",
              "     random_state=12345, shrinking=True, tol=0.001, verbose=False)</pre><b>In a Jupyter environment, please rerun this cell to show the HTML representation or trust the notebook. <br />On GitHub, the HTML representation is unable to render, please try loading this page with nbviewer.org.</b></div><div class=\"sk-container\" hidden><div class=\"sk-item\"><div class=\"sk-estimator sk-toggleable\"><input class=\"sk-toggleable__control sk-hidden--visually\" id=\"sk-estimator-id-1\" type=\"checkbox\" checked><label for=\"sk-estimator-id-1\" class=\"sk-toggleable__label sk-toggleable__label-arrow\">QSVC</label><div class=\"sk-toggleable__content\"><pre>QSVC(C=1.0, break_ties=False, cache_size=200, class_weight=None, coef0=0.0,\n",
              "     decision_function_shape=&#x27;ovr&#x27;, degree=3, gamma=&#x27;scale&#x27;, max_iter=-1,\n",
              "     probability=False,\n",
              "     quantum_kernel=&lt;qiskit_machine_learning.kernels.quantum_kernel.QuantumKernel object at 0x7b51315b8af0&gt;,\n",
              "     random_state=12345, shrinking=True, tol=0.001, verbose=False)</pre></div></div></div></div></div>"
            ],
            "text/plain": [
              "QSVC(C=1.0, break_ties=False, cache_size=200, class_weight=None, coef0=0.0,\n",
              "     decision_function_shape='ovr', degree=3, gamma='scale', max_iter=-1,\n",
              "     probability=False,\n",
              "     quantum_kernel=<qiskit_machine_learning.kernels.quantum_kernel.QuantumKernel object at 0x7b51315b8af0>,\n",
              "     random_state=12345, shrinking=True, tol=0.001, verbose=False)"
            ]
          },
          "execution_count": 8,
          "metadata": {},
          "output_type": "execute_result"
        }
      ],
      "source": [
        "qsvc = QSVC(quantum_kernel=adhoc_kernel)\n",
        "qsvc"
      ]
    },
    {
      "cell_type": "markdown",
      "source": [
        "__Define The Dataset__\n"
      ],
      "metadata": {
        "id": "01KTRLXu4Kjo"
      }
    },
    {
      "cell_type": "code",
      "execution_count": null,
      "metadata": {
        "colab": {
          "base_uri": "https://localhost:8080/",
          "height": 363
        },
        "id": "e8oB9uZviwlH",
        "outputId": "fcdd0cac-095d-4bb0-d670-fd6fd01b691c"
      },
      "outputs": [
        {
          "data": {
            "text/html": [
              "\n",
              "\n",
              "  <div id=\"df-e1f49e13-3586-47c2-a2b0-b8395ffd713d\">\n",
              "    <div class=\"colab-df-container\">\n",
              "      <div>\n",
              "<style scoped>\n",
              "    .dataframe tbody tr th:only-of-type {\n",
              "        vertical-align: middle;\n",
              "    }\n",
              "\n",
              "    .dataframe tbody tr th {\n",
              "        vertical-align: top;\n",
              "    }\n",
              "\n",
              "    .dataframe thead th {\n",
              "        text-align: right;\n",
              "    }\n",
              "</style>\n",
              "<table border=\"1\" class=\"dataframe\">\n",
              "  <thead>\n",
              "    <tr style=\"text-align: right;\">\n",
              "      <th></th>\n",
              "      <th>Stream</th>\n",
              "      <th>packet_count</th>\n",
              "      <th>src_dst_len</th>\n",
              "      <th>dst_src_len</th>\n",
              "      <th>freq_src_dst</th>\n",
              "      <th>freq_dst_src</th>\n",
              "      <th>prob_src_dst</th>\n",
              "      <th>prob_dst_src</th>\n",
              "      <th>total_prob_src_dst</th>\n",
              "      <th>total_prob_dst_src</th>\n",
              "      <th>total_prob</th>\n",
              "      <th>Attack Type</th>\n",
              "    </tr>\n",
              "  </thead>\n",
              "  <tbody>\n",
              "    <tr>\n",
              "      <th>0</th>\n",
              "      <td>763.0</td>\n",
              "      <td>76.0</td>\n",
              "      <td>0.0</td>\n",
              "      <td>1514.0</td>\n",
              "      <td>0.0</td>\n",
              "      <td>3.0</td>\n",
              "      <td>0.000000</td>\n",
              "      <td>0.078947</td>\n",
              "      <td>0.000000</td>\n",
              "      <td>0.157895</td>\n",
              "      <td>0.157895</td>\n",
              "      <td>Password attacks</td>\n",
              "    </tr>\n",
              "    <tr>\n",
              "      <th>1</th>\n",
              "      <td>5755.0</td>\n",
              "      <td>20.0</td>\n",
              "      <td>87.0</td>\n",
              "      <td>0.0</td>\n",
              "      <td>1.0</td>\n",
              "      <td>0.0</td>\n",
              "      <td>0.058824</td>\n",
              "      <td>0.000000</td>\n",
              "      <td>0.294118</td>\n",
              "      <td>0.000000</td>\n",
              "      <td>0.350000</td>\n",
              "      <td>DDoS HTTP Flood Attacks</td>\n",
              "    </tr>\n",
              "    <tr>\n",
              "      <th>2</th>\n",
              "      <td>45.0</td>\n",
              "      <td>218.0</td>\n",
              "      <td>355.0</td>\n",
              "      <td>22942.0</td>\n",
              "      <td>2.0</td>\n",
              "      <td>0.0</td>\n",
              "      <td>0.009174</td>\n",
              "      <td>0.000000</td>\n",
              "      <td>0.311927</td>\n",
              "      <td>0.000000</td>\n",
              "      <td>0.183486</td>\n",
              "      <td>Vulnerability scanner attack</td>\n",
              "    </tr>\n",
              "    <tr>\n",
              "      <th>3</th>\n",
              "      <td>778.0</td>\n",
              "      <td>69.0</td>\n",
              "      <td>0.0</td>\n",
              "      <td>66.0</td>\n",
              "      <td>0.0</td>\n",
              "      <td>20.0</td>\n",
              "      <td>0.000000</td>\n",
              "      <td>0.625000</td>\n",
              "      <td>0.000000</td>\n",
              "      <td>0.108108</td>\n",
              "      <td>0.144928</td>\n",
              "      <td>Password attacks</td>\n",
              "    </tr>\n",
              "    <tr>\n",
              "      <th>4</th>\n",
              "      <td>518.0</td>\n",
              "      <td>78.0</td>\n",
              "      <td>74.0</td>\n",
              "      <td>0.0</td>\n",
              "      <td>7.0</td>\n",
              "      <td>0.0</td>\n",
              "      <td>0.179487</td>\n",
              "      <td>0.000000</td>\n",
              "      <td>0.128205</td>\n",
              "      <td>0.000000</td>\n",
              "      <td>0.141026</td>\n",
              "      <td>Password attacks</td>\n",
              "    </tr>\n",
              "    <tr>\n",
              "      <th>5</th>\n",
              "      <td>1419.0</td>\n",
              "      <td>30.0</td>\n",
              "      <td>85.0</td>\n",
              "      <td>0.0</td>\n",
              "      <td>1.0</td>\n",
              "      <td>0.0</td>\n",
              "      <td>0.066667</td>\n",
              "      <td>0.000000</td>\n",
              "      <td>0.600000</td>\n",
              "      <td>0.000000</td>\n",
              "      <td>0.400000</td>\n",
              "      <td>DDoS HTTP Flood Attacks</td>\n",
              "    </tr>\n",
              "    <tr>\n",
              "      <th>6</th>\n",
              "      <td>345.0</td>\n",
              "      <td>217.0</td>\n",
              "      <td>383.0</td>\n",
              "      <td>0.0</td>\n",
              "      <td>2.0</td>\n",
              "      <td>0.0</td>\n",
              "      <td>0.018519</td>\n",
              "      <td>0.000000</td>\n",
              "      <td>0.370370</td>\n",
              "      <td>0.000000</td>\n",
              "      <td>0.211982</td>\n",
              "      <td>Vulnerability scanner attack</td>\n",
              "    </tr>\n",
              "    <tr>\n",
              "      <th>7</th>\n",
              "      <td>5466.0</td>\n",
              "      <td>19.0</td>\n",
              "      <td>344.0</td>\n",
              "      <td>0.0</td>\n",
              "      <td>10.0</td>\n",
              "      <td>0.0</td>\n",
              "      <td>0.555556</td>\n",
              "      <td>0.000000</td>\n",
              "      <td>0.166667</td>\n",
              "      <td>0.000000</td>\n",
              "      <td>0.210526</td>\n",
              "      <td>DDoS HTTP Flood Attacks</td>\n",
              "    </tr>\n",
              "    <tr>\n",
              "      <th>8</th>\n",
              "      <td>11700.0</td>\n",
              "      <td>29.0</td>\n",
              "      <td>60.0</td>\n",
              "      <td>0.0</td>\n",
              "      <td>2.0</td>\n",
              "      <td>0.0</td>\n",
              "      <td>0.111111</td>\n",
              "      <td>0.000000</td>\n",
              "      <td>0.666667</td>\n",
              "      <td>0.000000</td>\n",
              "      <td>0.517241</td>\n",
              "      <td>DDoS HTTP Flood Attacks</td>\n",
              "    </tr>\n",
              "    <tr>\n",
              "      <th>9</th>\n",
              "      <td>716.0</td>\n",
              "      <td>77.0</td>\n",
              "      <td>0.0</td>\n",
              "      <td>74.0</td>\n",
              "      <td>0.0</td>\n",
              "      <td>7.0</td>\n",
              "      <td>0.000000</td>\n",
              "      <td>0.179487</td>\n",
              "      <td>0.000000</td>\n",
              "      <td>0.131579</td>\n",
              "      <td>0.142857</td>\n",
              "      <td>Password attacks</td>\n",
              "    </tr>\n",
              "  </tbody>\n",
              "</table>\n",
              "</div>\n",
              "      <button class=\"colab-df-convert\" onclick=\"convertToInteractive('df-e1f49e13-3586-47c2-a2b0-b8395ffd713d')\"\n",
              "              title=\"Convert this dataframe to an interactive table.\"\n",
              "              style=\"display:none;\">\n",
              "\n",
              "  <svg xmlns=\"http://www.w3.org/2000/svg\" height=\"24px\"viewBox=\"0 0 24 24\"\n",
              "       width=\"24px\">\n",
              "    <path d=\"M0 0h24v24H0V0z\" fill=\"none\"/>\n",
              "    <path d=\"M18.56 5.44l.94 2.06.94-2.06 2.06-.94-2.06-.94-.94-2.06-.94 2.06-2.06.94zm-11 1L8.5 8.5l.94-2.06 2.06-.94-2.06-.94L8.5 2.5l-.94 2.06-2.06.94zm10 10l.94 2.06.94-2.06 2.06-.94-2.06-.94-.94-2.06-.94 2.06-2.06.94z\"/><path d=\"M17.41 7.96l-1.37-1.37c-.4-.4-.92-.59-1.43-.59-.52 0-1.04.2-1.43.59L10.3 9.45l-7.72 7.72c-.78.78-.78 2.05 0 2.83L4 21.41c.39.39.9.59 1.41.59.51 0 1.02-.2 1.41-.59l7.78-7.78 2.81-2.81c.8-.78.8-2.07 0-2.86zM5.41 20L4 18.59l7.72-7.72 1.47 1.35L5.41 20z\"/>\n",
              "  </svg>\n",
              "      </button>\n",
              "\n",
              "\n",
              "\n",
              "    <div id=\"df-7833d1f4-da0c-4da6-afba-3face444148a\">\n",
              "      <button class=\"colab-df-quickchart\" onclick=\"quickchart('df-7833d1f4-da0c-4da6-afba-3face444148a')\"\n",
              "              title=\"Suggest charts.\"\n",
              "              style=\"display:none;\">\n",
              "\n",
              "<svg xmlns=\"http://www.w3.org/2000/svg\" height=\"24px\"viewBox=\"0 0 24 24\"\n",
              "     width=\"24px\">\n",
              "    <g>\n",
              "        <path d=\"M19 3H5c-1.1 0-2 .9-2 2v14c0 1.1.9 2 2 2h14c1.1 0 2-.9 2-2V5c0-1.1-.9-2-2-2zM9 17H7v-7h2v7zm4 0h-2V7h2v10zm4 0h-2v-4h2v4z\"/>\n",
              "    </g>\n",
              "</svg>\n",
              "      </button>\n",
              "    </div>\n",
              "\n",
              "<style>\n",
              "  .colab-df-quickchart {\n",
              "    background-color: #E8F0FE;\n",
              "    border: none;\n",
              "    border-radius: 50%;\n",
              "    cursor: pointer;\n",
              "    display: none;\n",
              "    fill: #1967D2;\n",
              "    height: 32px;\n",
              "    padding: 0 0 0 0;\n",
              "    width: 32px;\n",
              "  }\n",
              "\n",
              "  .colab-df-quickchart:hover {\n",
              "    background-color: #E2EBFA;\n",
              "    box-shadow: 0px 1px 2px rgba(60, 64, 67, 0.3), 0px 1px 3px 1px rgba(60, 64, 67, 0.15);\n",
              "    fill: #174EA6;\n",
              "  }\n",
              "\n",
              "  [theme=dark] .colab-df-quickchart {\n",
              "    background-color: #3B4455;\n",
              "    fill: #D2E3FC;\n",
              "  }\n",
              "\n",
              "  [theme=dark] .colab-df-quickchart:hover {\n",
              "    background-color: #434B5C;\n",
              "    box-shadow: 0px 1px 3px 1px rgba(0, 0, 0, 0.15);\n",
              "    filter: drop-shadow(0px 1px 2px rgba(0, 0, 0, 0.3));\n",
              "    fill: #FFFFFF;\n",
              "  }\n",
              "</style>\n",
              "\n",
              "    <script>\n",
              "      async function quickchart(key) {\n",
              "        const containerElement = document.querySelector('#' + key);\n",
              "        const charts = await google.colab.kernel.invokeFunction(\n",
              "            'suggestCharts', [key], {});\n",
              "      }\n",
              "    </script>\n",
              "\n",
              "      <script>\n",
              "\n",
              "function displayQuickchartButton(domScope) {\n",
              "  let quickchartButtonEl =\n",
              "    domScope.querySelector('#df-7833d1f4-da0c-4da6-afba-3face444148a button.colab-df-quickchart');\n",
              "  quickchartButtonEl.style.display =\n",
              "    google.colab.kernel.accessAllowed ? 'block' : 'none';\n",
              "}\n",
              "\n",
              "        displayQuickchartButton(document);\n",
              "      </script>\n",
              "      <style>\n",
              "    .colab-df-container {\n",
              "      display:flex;\n",
              "      flex-wrap:wrap;\n",
              "      gap: 12px;\n",
              "    }\n",
              "\n",
              "    .colab-df-convert {\n",
              "      background-color: #E8F0FE;\n",
              "      border: none;\n",
              "      border-radius: 50%;\n",
              "      cursor: pointer;\n",
              "      display: none;\n",
              "      fill: #1967D2;\n",
              "      height: 32px;\n",
              "      padding: 0 0 0 0;\n",
              "      width: 32px;\n",
              "    }\n",
              "\n",
              "    .colab-df-convert:hover {\n",
              "      background-color: #E2EBFA;\n",
              "      box-shadow: 0px 1px 2px rgba(60, 64, 67, 0.3), 0px 1px 3px 1px rgba(60, 64, 67, 0.15);\n",
              "      fill: #174EA6;\n",
              "    }\n",
              "\n",
              "    [theme=dark] .colab-df-convert {\n",
              "      background-color: #3B4455;\n",
              "      fill: #D2E3FC;\n",
              "    }\n",
              "\n",
              "    [theme=dark] .colab-df-convert:hover {\n",
              "      background-color: #434B5C;\n",
              "      box-shadow: 0px 1px 3px 1px rgba(0, 0, 0, 0.15);\n",
              "      filter: drop-shadow(0px 1px 2px rgba(0, 0, 0, 0.3));\n",
              "      fill: #FFFFFF;\n",
              "    }\n",
              "  </style>\n",
              "\n",
              "      <script>\n",
              "        const buttonEl =\n",
              "          document.querySelector('#df-e1f49e13-3586-47c2-a2b0-b8395ffd713d button.colab-df-convert');\n",
              "        buttonEl.style.display =\n",
              "          google.colab.kernel.accessAllowed ? 'block' : 'none';\n",
              "\n",
              "        async function convertToInteractive(key) {\n",
              "          const element = document.querySelector('#df-e1f49e13-3586-47c2-a2b0-b8395ffd713d');\n",
              "          const dataTable =\n",
              "            await google.colab.kernel.invokeFunction('convertToInteractive',\n",
              "                                                     [key], {});\n",
              "          if (!dataTable) return;\n",
              "\n",
              "          const docLinkHtml = 'Like what you see? Visit the ' +\n",
              "            '<a target=\"_blank\" href=https://colab.research.google.com/notebooks/data_table.ipynb>data table notebook</a>'\n",
              "            + ' to learn more about interactive tables.';\n",
              "          element.innerHTML = '';\n",
              "          dataTable['output_type'] = 'display_data';\n",
              "          await google.colab.output.renderOutput(dataTable, element);\n",
              "          const docLink = document.createElement('div');\n",
              "          docLink.innerHTML = docLinkHtml;\n",
              "          element.appendChild(docLink);\n",
              "        }\n",
              "      </script>\n",
              "    </div>\n",
              "  </div>\n"
            ],
            "text/plain": [
              "    Stream  packet_count  src_dst_len  dst_src_len  freq_src_dst  \\\n",
              "0    763.0          76.0          0.0       1514.0           0.0   \n",
              "1   5755.0          20.0         87.0          0.0           1.0   \n",
              "2     45.0         218.0        355.0      22942.0           2.0   \n",
              "3    778.0          69.0          0.0         66.0           0.0   \n",
              "4    518.0          78.0         74.0          0.0           7.0   \n",
              "5   1419.0          30.0         85.0          0.0           1.0   \n",
              "6    345.0         217.0        383.0          0.0           2.0   \n",
              "7   5466.0          19.0        344.0          0.0          10.0   \n",
              "8  11700.0          29.0         60.0          0.0           2.0   \n",
              "9    716.0          77.0          0.0         74.0           0.0   \n",
              "\n",
              "   freq_dst_src  prob_src_dst  prob_dst_src  total_prob_src_dst  \\\n",
              "0           3.0      0.000000      0.078947            0.000000   \n",
              "1           0.0      0.058824      0.000000            0.294118   \n",
              "2           0.0      0.009174      0.000000            0.311927   \n",
              "3          20.0      0.000000      0.625000            0.000000   \n",
              "4           0.0      0.179487      0.000000            0.128205   \n",
              "5           0.0      0.066667      0.000000            0.600000   \n",
              "6           0.0      0.018519      0.000000            0.370370   \n",
              "7           0.0      0.555556      0.000000            0.166667   \n",
              "8           0.0      0.111111      0.000000            0.666667   \n",
              "9           7.0      0.000000      0.179487            0.000000   \n",
              "\n",
              "   total_prob_dst_src  total_prob                   Attack Type  \n",
              "0            0.157895    0.157895              Password attacks  \n",
              "1            0.000000    0.350000       DDoS HTTP Flood Attacks  \n",
              "2            0.000000    0.183486  Vulnerability scanner attack  \n",
              "3            0.108108    0.144928              Password attacks  \n",
              "4            0.000000    0.141026              Password attacks  \n",
              "5            0.000000    0.400000       DDoS HTTP Flood Attacks  \n",
              "6            0.000000    0.211982  Vulnerability scanner attack  \n",
              "7            0.000000    0.210526       DDoS HTTP Flood Attacks  \n",
              "8            0.000000    0.517241       DDoS HTTP Flood Attacks  \n",
              "9            0.131579    0.142857              Password attacks  "
            ]
          },
          "execution_count": 17,
          "metadata": {},
          "output_type": "execute_result"
        }
      ],
      "source": [
        "import numpy as np\n",
        "import pandas as pd\n",
        "df = pd.read_csv(\"/content/new4.csv\")\n",
        "df.head(10)"
      ]
    },
    {
      "cell_type": "markdown",
      "source": [
        "__DataSet Information__"
      ],
      "metadata": {
        "id": "GODUZfGw4QKv"
      }
    },
    {
      "cell_type": "code",
      "source": [
        "df.info()"
      ],
      "metadata": {
        "colab": {
          "base_uri": "https://localhost:8080/",
          "height": 0
        },
        "id": "-g123IDU4XjF",
        "outputId": "6d0f90a4-46b5-45f0-fdbf-6e8c1ae20be1"
      },
      "execution_count": 30,
      "outputs": [
        {
          "output_type": "stream",
          "name": "stdout",
          "text": [
            "<class 'pandas.core.frame.DataFrame'>\n",
            "RangeIndex: 1000 entries, 0 to 999\n",
            "Data columns (total 12 columns):\n",
            " #   Column              Non-Null Count  Dtype  \n",
            "---  ------              --------------  -----  \n",
            " 0   Stream              1000 non-null   float64\n",
            " 1   packet_count        1000 non-null   float64\n",
            " 2   src_dst_len         1000 non-null   float64\n",
            " 3   dst_src_len         1000 non-null   float64\n",
            " 4   freq_src_dst        1000 non-null   float64\n",
            " 5   freq_dst_src        1000 non-null   float64\n",
            " 6   prob_src_dst        1000 non-null   float64\n",
            " 7   prob_dst_src        1000 non-null   float64\n",
            " 8   total_prob_src_dst  1000 non-null   float64\n",
            " 9   total_prob_dst_src  1000 non-null   float64\n",
            " 10  total_prob          1000 non-null   float64\n",
            " 11  Attack Type         1000 non-null   object \n",
            "dtypes: float64(11), object(1)\n",
            "memory usage: 93.9+ KB\n"
          ]
        }
      ]
    },
    {
      "cell_type": "code",
      "execution_count": 31,
      "metadata": {
        "colab": {
          "base_uri": "https://localhost:8080/",
          "height": 0
        },
        "id": "AaicDpZocBRk",
        "outputId": "683ac8cf-63b3-4188-d987-67529c89fc11"
      },
      "outputs": [
        {
          "output_type": "stream",
          "name": "stdout",
          "text": [
            "the y_train label are  [ 5  1 10  5  5  1 10  1  1  5  6  6  5  2  1  1  8  6  1  5  8  1  1  1\n",
            "  3  8 10  1  5  9  5  1  8  1  8  1 10 10  6  1  1  0  8  8  1  1 10 10\n",
            "  3  1  2 10  6  5  9  1  1  5  1  1  6  1  9  1  1  6  9  6  9  1  5  8\n",
            "  5  8  9  1  1  6  8 10  6 10  5  1  6  6  9  8  1  1 10  1 10  8  1  5\n",
            " 10 10  1 10  9 10  8  1  1  5  8  1  0  1  1 10  5  1  6  9  5  1  5  1\n",
            "  1  1  9  5  1  5  6  1 10  1  5  1  1 10  1  6  1  5  1  5  8 10  6  6\n",
            "  6 10  9  1  9  9  8  8  1  9  4  6  5  1 10 10  3 10  9 10 10  8 10  5\n",
            " 10  1 10  9  8  6 10  1 10  5  1  1  6 10  1  0  1  9 10 10  1  9  1  2\n",
            "  5  8  5  5  1 10 10  7  5  1  9  8  6  8  6 10 10  1  8  1  1  9  1  1\n",
            " 10  1  1 10  3  8  1  8 10  5  8 10  6  5  1  6 10  9  1 10  5  1  8  1\n",
            "  8  1  5  5 10  1  8  5  6  5  8  5  5  5  9  6  1  5  9  6  6  1  1  1\n",
            "  1 10  5 10  6  1 10  8  1  9 10  8 10  1  1  1  6  1  8 10  1  1 10  8\n",
            "  8  9  9  5  1  9  6  1  8  1 10  5  8  1  9  1 10  5  0  5  4 10  1  1\n",
            " 10  8 10  1  1  5  5  5  1  1  8 10  5  8  3  1  9  6  8  5  2  1  1  5\n",
            " 10  9  5  5  6  9  1  9  1  1  8  5  8  5  1  1 10  8  8  1  8  1  6  8\n",
            " 10  8  1  9  6  1  9 10  9  1 10 10  9  5  6  1  2 10  5  6  2  6  9  1\n",
            "  6  6  1  5  1  1  1  1  1  9  9  9  9  1  9  1 10  1  6  9  3  8  1  5\n",
            "  1  1  8  1  1  6 10  1  1  9 10  9  1  8 10 10  9  5  9  8  8  8  1  1\n",
            "  9  9 10  1  1  1  6  9  6  1  9  9  1  1 10  6  1  5  5 10  1  8  5 10\n",
            "  1  8  1  5  8  6  1  9  1 10  1  1 10 10  6  1  1  8  9  1  1  1  1  1\n",
            "  1  5  6  1 10  8  1  1  3 10  1  8  5  5 10  7  1  1  1  8  6  1  9  1\n",
            "  8 10 10  6  1  1  8  1 10  6  6  1 10  5  5  1  9 10 10 10  9  5  1  5\n",
            "  9  1  1  1  1  8  8  1  6  8  1  1  5 10  1 10  1  8  0  1  1  8  5  3\n",
            "  9  9  5  9  6 10  5 10 10  1  5  1  5 10  8  6  6  8  5  5  8  8  8  6\n",
            "  6 10  9  1  5  1  5  1  1  6  1  9  4 10 10  1  1  5  8 10  1  9 10  8\n",
            "  1  9  9  1  9  6  1 10  9  8  1  1  6 10  8  5  7  1  5  5  1  1 10  1\n",
            " 10 10  9  1 10  9  9 10  5  6  1  1 10  6  1 10  1 10  1  1  1  5  1  6\n",
            " 10  5  6  9  5  5 10  6  9  5  9  1  9  9 10  1  9  8  5  5 10  1  5  9\n",
            "  5  9  6  1  1  1  5  3 10  1 10  1 10  5  1  6  8  5  1  6 10  1  9  8\n",
            "  6 10  1  3  1 10  1  1 10  6 10  5  5 10 10  9  9  6  8  1 10  1  4  5\n",
            "  9  9  1 10  1  5  8  1  6  1  8 10  1 10  8  9  6  9  1  1  7  1  9  5\n",
            "  1 10  8  6  9 10  1  6  1  4  9  8  9  1  5  1  6  5  1  8  1  6  1  9\n",
            "  0 10 10  1  1  9  9  1  9  8  1  5  1  6  1  8  1  1  9  1  5  1  1 10\n",
            "  1  1  1  5 10  5 10  1 10  1 10  1  1  1  8 10  1  6  6 10 10 10  6  1\n",
            "  8  5  1  1  1  1  1  5 10  5  6 10  1  1 10  8  1  5 10  1  5 10  5  5\n",
            "  6  8  5  1  1 10  9  1 10  1  8  5 10  1  6  1  1  5  1  5 10 10  9  8\n",
            " 10  6  8  9  6  5  1  1  1  6  9  8  9  1  5  1  5  1  1  1  5 10  5  9\n",
            "  6  1 10 10  9  5  1  5  1  1 10  2  1  9  8  1  6  9  1 10  1  8  2  8\n",
            "  1  5  1 10  1  8  8  6 10  1  9  6  4  9  5  1  9  1 10  1  9 10  1  1\n",
            "  1  5  8  1  5  9  8  1 10  8  5  8  6  0 10  5  1 10 10 10  1 10  5  1\n",
            "  6  1  8  1  1 10  9  1  6  1  1  5 10  5  1  1  5 10  8  1  9  1  1  1\n",
            "  5 10  5  1  1  1  8 10  1 10  8  1  1  8  1 10]\n"
          ]
        }
      ],
      "source": [
        "df = pd.read_csv(\"/content/new4.csv\")\n",
        "df = df.iloc[:1000]\n",
        "x=df[['dst_src_len','src_dst_len','total_prob']]\n",
        "import pandas as pd\n",
        "from sklearn.preprocessing import MinMaxScaler\n",
        "scaler = MinMaxScaler()\n",
        "\n",
        "scaler.fit(x)\n",
        "\n",
        "x = pd.DataFrame(scaler.transform(x), columns=x.columns)\n",
        "\n",
        "\n",
        "y=df['Attack Type']\n",
        "\n",
        "y2=y\n",
        "from sklearn.preprocessing import LabelEncoder\n",
        "\n",
        "label_encoder = LabelEncoder()\n",
        "\n",
        "label_encoder.fit(y)\n",
        "\n",
        "y = label_encoder.transform(y)\n",
        "\n",
        "\n",
        "x_train, x_test, y_train, y_test = train_test_split(x, y, test_size=0.3,random_state=42)\n",
        "\n",
        "print(\"the y_train label are \",y)"
      ]
    },
    {
      "cell_type": "markdown",
      "metadata": {
        "id": "gusIVBh7U_qU"
      },
      "source": [
        "**for y_train dataframe**\n"
      ]
    },
    {
      "cell_type": "code",
      "execution_count": null,
      "metadata": {
        "colab": {
          "base_uri": "https://localhost:8080/",
          "height": 607
        },
        "id": "oLh3L4YLdUBR",
        "outputId": "93e56643-4d85-420b-bb3f-4455fc4d41c9"
      },
      "outputs": [
        {
          "data": {
            "image/png": "[encoded data removed]",
            "text/plain": [
              "<Figure size 800x600 with 1 Axes>"
            ]
          },
          "metadata": {},
          "output_type": "display_data"
        }
      ],
      "source": [
        "import matplotlib.pyplot as plt\n",
        "y_train_series = pd.Series(y2)\n",
        "\n",
        "\n",
        "# Count the occurrences of each label in y_train and y_test\n",
        "train_label_counts = y_train_series.value_counts()\n",
        "\n",
        "\n",
        "# Get the unique class labels from the original y data\n",
        "unique_labels = sorted(y_train_series.unique())\n",
        "\n",
        "plt.figure(figsize=(8, 6))\n",
        "plt.bar(unique_labels, train_label_counts, color='pink')\n",
        "plt.title('Label Distribution in y_train')\n",
        "plt.xlabel('Class Labels')\n",
        "plt.ylabel('Count')\n",
        "plt.xticks(unique_labels, rotation=45)  # Rotate the y-labels by 45 degrees\n",
        "plt.yticks(fontstyle='italic')  # Set the y-labels in italic form\n",
        "plt.grid(axis='y')\n",
        "plt.tight_layout()  # Adjust the layout to prevent overlapping\n",
        "plt.show()\n",
        "\n",
        "\n"
      ]
    },
    {
      "cell_type": "markdown",
      "metadata": {
        "id": "Im8owRPOh5bJ"
      },
      "source": [
        "__fit the dataset in QSVC model__\n"
      ]
    },
    {
      "cell_type": "code",
      "execution_count": null,
      "metadata": {
        "colab": {
          "base_uri": "https://localhost:8080/",
          "height": 144
        },
        "id": "xN55xyt5dZSD",
        "outputId": "26686ef5-ce33-47f1-dfb4-1d9d976392c0"
      },
      "outputs": [
        {
          "data": {
            "text/html": [
              "<style>#sk-container-id-2 {color: black;background-color: white;}#sk-container-id-2 pre{padding: 0;}#sk-container-id-2 div.sk-toggleable {background-color: white;}#sk-container-id-2 label.sk-toggleable__label {cursor: pointer;display: block;width: 100%;margin-bottom: 0;padding: 0.3em;box-sizing: border-box;text-align: center;}#sk-container-id-2 label.sk-toggleable__label-arrow:before {content: \"▸\";float: left;margin-right: 0.25em;color: #696969;}#sk-container-id-2 label.sk-toggleable__label-arrow:hover:before {color: black;}#sk-container-id-2 div.sk-estimator:hover label.sk-toggleable__label-arrow:before {color: black;}#sk-container-id-2 div.sk-toggleable__content {max-height: 0;max-width: 0;overflow: hidden;text-align: left;background-color: #f0f8ff;}#sk-container-id-2 div.sk-toggleable__content pre {margin: 0.2em;color: black;border-radius: 0.25em;background-color: #f0f8ff;}#sk-container-id-2 input.sk-toggleable__control:checked~div.sk-toggleable__content {max-height: 200px;max-width: 100%;overflow: auto;}#sk-container-id-2 input.sk-toggleable__control:checked~label.sk-toggleable__label-arrow:before {content: \"▾\";}#sk-container-id-2 div.sk-estimator input.sk-toggleable__control:checked~label.sk-toggleable__label {background-color: #d4ebff;}#sk-container-id-2 div.sk-label input.sk-toggleable__control:checked~label.sk-toggleable__label {background-color: #d4ebff;}#sk-container-id-2 input.sk-hidden--visually {border: 0;clip: rect(1px 1px 1px 1px);clip: rect(1px, 1px, 1px, 1px);height: 1px;margin: -1px;overflow: hidden;padding: 0;position: absolute;width: 1px;}#sk-container-id-2 div.sk-estimator {font-family: monospace;background-color: #f0f8ff;border: 1px dotted black;border-radius: 0.25em;box-sizing: border-box;margin-bottom: 0.5em;}#sk-container-id-2 div.sk-estimator:hover {background-color: #d4ebff;}#sk-container-id-2 div.sk-parallel-item::after {content: \"\";width: 100%;border-bottom: 1px solid gray;flex-grow: 1;}#sk-container-id-2 div.sk-label:hover label.sk-toggleable__label {background-color: #d4ebff;}#sk-container-id-2 div.sk-serial::before {content: \"\";position: absolute;border-left: 1px solid gray;box-sizing: border-box;top: 0;bottom: 0;left: 50%;z-index: 0;}#sk-container-id-2 div.sk-serial {display: flex;flex-direction: column;align-items: center;background-color: white;padding-right: 0.2em;padding-left: 0.2em;position: relative;}#sk-container-id-2 div.sk-item {position: relative;z-index: 1;}#sk-container-id-2 div.sk-parallel {display: flex;align-items: stretch;justify-content: center;background-color: white;position: relative;}#sk-container-id-2 div.sk-item::before, #sk-container-id-2 div.sk-parallel-item::before {content: \"\";position: absolute;border-left: 1px solid gray;box-sizing: border-box;top: 0;bottom: 0;left: 50%;z-index: -1;}#sk-container-id-2 div.sk-parallel-item {display: flex;flex-direction: column;z-index: 1;position: relative;background-color: white;}#sk-container-id-2 div.sk-parallel-item:first-child::after {align-self: flex-end;width: 50%;}#sk-container-id-2 div.sk-parallel-item:last-child::after {align-self: flex-start;width: 50%;}#sk-container-id-2 div.sk-parallel-item:only-child::after {width: 0;}#sk-container-id-2 div.sk-dashed-wrapped {border: 1px dashed gray;margin: 0 0.4em 0.5em 0.4em;box-sizing: border-box;padding-bottom: 0.4em;background-color: white;}#sk-container-id-2 div.sk-label label {font-family: monospace;font-weight: bold;display: inline-block;line-height: 1.2em;}#sk-container-id-2 div.sk-label-container {text-align: center;}#sk-container-id-2 div.sk-container {/* jupyter's `normalize.less` sets `[hidden] { display: none; }` but bootstrap.min.css set `[hidden] { display: none !important; }` so we also need the `!important` here to be able to override the default hidden behavior on the sphinx rendered scikit-learn.org. See: https://github.com/scikit-learn/scikit-learn/issues/21755 */display: inline-block !important;position: relative;}#sk-container-id-2 div.sk-text-repr-fallback {display: none;}</style><div id=\"sk-container-id-2\" class=\"sk-top-container\"><div class=\"sk-text-repr-fallback\"><pre>QSVC(C=1.0, break_ties=False, cache_size=200, class_weight=None, coef0=0.0,\n",
              "     decision_function_shape=&#x27;ovr&#x27;, degree=3, gamma=&#x27;scale&#x27;, max_iter=-1,\n",
              "     probability=False,\n",
              "     quantum_kernel=&lt;qiskit_machine_learning.kernels.quantum_kernel.QuantumKernel object at 0x7b51315b8af0&gt;,\n",
              "     random_state=12345, shrinking=True, tol=0.001, verbose=False)</pre><b>In a Jupyter environment, please rerun this cell to show the HTML representation or trust the notebook. <br />On GitHub, the HTML representation is unable to render, please try loading this page with nbviewer.org.</b></div><div class=\"sk-container\" hidden><div class=\"sk-item\"><div class=\"sk-estimator sk-toggleable\"><input class=\"sk-toggleable__control sk-hidden--visually\" id=\"sk-estimator-id-2\" type=\"checkbox\" checked><label for=\"sk-estimator-id-2\" class=\"sk-toggleable__label sk-toggleable__label-arrow\">QSVC</label><div class=\"sk-toggleable__content\"><pre>QSVC(C=1.0, break_ties=False, cache_size=200, class_weight=None, coef0=0.0,\n",
              "     decision_function_shape=&#x27;ovr&#x27;, degree=3, gamma=&#x27;scale&#x27;, max_iter=-1,\n",
              "     probability=False,\n",
              "     quantum_kernel=&lt;qiskit_machine_learning.kernels.quantum_kernel.QuantumKernel object at 0x7b51315b8af0&gt;,\n",
              "     random_state=12345, shrinking=True, tol=0.001, verbose=False)</pre></div></div></div></div></div>"
            ],
            "text/plain": [
              "QSVC(C=1.0, break_ties=False, cache_size=200, class_weight=None, coef0=0.0,\n",
              "     decision_function_shape='ovr', degree=3, gamma='scale', max_iter=-1,\n",
              "     probability=False,\n",
              "     quantum_kernel=<qiskit_machine_learning.kernels.quantum_kernel.QuantumKernel object at 0x7b51315b8af0>,\n",
              "     random_state=12345, shrinking=True, tol=0.001, verbose=False)"
            ]
          },
          "execution_count": 21,
          "metadata": {},
          "output_type": "execute_result"
        }
      ],
      "source": [
        "qsvc.fit(x_train,y_train)"
      ]
    },
    {
      "cell_type": "markdown",
      "source": [
        "__print the shape of Dataset__"
      ],
      "metadata": {
        "id": "FdDVJRWU5Gss"
      }
    },
    {
      "cell_type": "code",
      "execution_count": 32,
      "metadata": {
        "colab": {
          "base_uri": "https://localhost:8080/",
          "height": 0
        },
        "id": "lKC4sbyG5kOa",
        "outputId": "ebdbc654-4356-4296-8e28-5ebcd853bf62"
      },
      "outputs": [
        {
          "output_type": "stream",
          "name": "stdout",
          "text": [
            "Shape of x_train dataset  (700, 3)\n",
            "Shape of y_train dataset  (700,)\n",
            "Shape of x_test dataset  (300, 3)\n",
            "Shape of y_test dataset  (300,)\n"
          ]
        }
      ],
      "source": [
        "print(\"Shape of x_train dataset \",x_train.shape)\n",
        "print(\"Shape of y_train dataset \",y_train.shape)\n",
        "print(\"Shape of x_test dataset \",x_test.shape)\n",
        "print(\"Shape of y_test dataset \",y_test.shape)"
      ]
    },
    {
      "cell_type": "markdown",
      "source": [
        "__testing the model using y_test__\n"
      ],
      "metadata": {
        "id": "YsUe0zhW5Q-O"
      }
    },
    {
      "cell_type": "code",
      "execution_count": null,
      "metadata": {
        "id": "0mS9PifFePdf"
      },
      "outputs": [],
      "source": [
        "y_test_series = pd.Series(y_test)\n",
        "\n",
        "# Get the sorted unique class names\n",
        "class_names = sorted(y_test_series.unique())\n",
        "\n",
        "# Rest of your code\n",
        "class_times = {class_name: 0 for class_name in class_names}\n",
        "\n",
        "for class_name in class_names:\n",
        "    class_indices = y_test == class_name\n",
        "    class_features = x_test[class_indices]\n",
        "    class_start_time = pd.Timestamp.now()\n",
        "    qsvc.predict(class_features)\n",
        "    class_end_time = pd.Timestamp.now()\n",
        "    class_times[class_name] = (class_end_time - class_start_time).total_seconds()\n"
      ]
    },
    {
      "cell_type": "markdown",
      "source": [
        "__to know the score and accuracy result of qsvc model__"
      ],
      "metadata": {
        "id": "roOFolBA5WAz"
      }
    },
    {
      "cell_type": "code",
      "execution_count": null,
      "metadata": {
        "colab": {
          "base_uri": "https://localhost:8080/"
        },
        "id": "6PvkW_QFlfjr",
        "outputId": "38f1995d-9f0a-4e05-cc76-ada0fdc7b26e"
      },
      "outputs": [
        {
          "data": {
            "text/plain": [
              "0.7066666666666667"
            ]
          },
          "execution_count": 24,
          "metadata": {},
          "output_type": "execute_result"
        }
      ],
      "source": [
        "qsvc_score = qsvc.score(x_test,y_test)\n",
        "qsvc_score"
      ]
    },
    {
      "cell_type": "markdown",
      "source": [
        "__to plot the graph of y_test data__\n"
      ],
      "metadata": {
        "id": "PaHMYuvd5loE"
      }
    },
    {
      "cell_type": "code",
      "execution_count": null,
      "metadata": {
        "colab": {
          "base_uri": "https://localhost:8080/"
        },
        "id": "ZpyRr7y8ymDA",
        "outputId": "006558c5-e85e-4ebf-d629-ebf588554f18"
      },
      "outputs": [
        {
          "data": {
            "image/png": "[encoded data removed]",
            "text/plain": [
              "<Figure size 800x600 with 1 Axes>"
            ]
          },
          "metadata": {},
          "output_type": "display_data"
        }
      ],
      "source": [
        "y_train_series = pd.Series(y_test)\n",
        "\n",
        "\n",
        "# Count the occurrences of each label in y_train and y_test\n",
        "train_label_counts = y_train_series.value_counts()\n",
        "\n",
        "\n",
        "# Get the unique class labels from the original y data\n",
        "unique_labels = sorted(y_train_series.unique())\n",
        "\n",
        "plt.figure(figsize=(8, 6))\n",
        "plt.bar(unique_labels, train_label_counts, color='pink')\n",
        "plt.title('Label Distribution in y_test')\n",
        "plt.xlabel('Class Labels')\n",
        "plt.ylabel('Count')\n",
        "plt.xticks(unique_labels, rotation=45)  # Rotate the y-labels by 45 degrees\n",
        "plt.yticks(fontstyle='italic')  # Set the y-labels in italic form\n",
        "plt.grid(axis='y')\n",
        "plt.tight_layout()  # Adjust the layout to prevent overlapping\n",
        "plt.show()\n",
        "\n",
        "\n"
      ]
    },
    {
      "cell_type": "markdown",
      "source": [
        "__code for predict the x_test and find the classification report and draw a graph for recall rate of prediction__"
      ],
      "metadata": {
        "id": "xmeUxPAl6CAR"
      }
    },
    {
      "cell_type": "code",
      "execution_count": null,
      "metadata": {
        "colab": {
          "background_save": true
        },
        "id": "VVX8y4xsl02R",
        "outputId": "862ace47-4fcb-489f-ee95-6884c5273026"
      },
      "outputs": [
        {
          "name": "stdout",
          "output_type": "stream",
          "text": [
            "[10  8  6  8  1  5  6  6  5  1 10  5  1  5  8  6  6  1  5  5  8  1 10  5\n",
            "  8 10 10  5  8  8  8  5  1  8  8  1  6  1  6  1  5 10 10  1  5  1  6  6\n",
            "  6 10  5  1  1  6  1  5  1  6  8  1  8  6  8  1  8  5 10  1  5 10  1  5\n",
            " 10  1  1  6  5  1  1  5  6  6  8  6  5 10  1  8  6  1  6 10  5  1  1  1\n",
            "  1  1  5  6 10  5  1  5  1  1  5  1 10  8  6  5 10  8  1  8  8  8  8  6\n",
            "  6  5  6  6  5  8  1  1  8 10  8  1 10  8  5  1  5  8  8  5  8  5  8 10\n",
            "  5  1  6 10  5  1  1 10  5  8  6  5  8 10  6  5 10  6  5  6  6 10  8  5\n",
            " 10 10  8  1  1 10  5  6  6  6  1  1 10  5  1  1  1  5  5  1  8  1  6  1\n",
            "  6  6  6  1  9 10  8  8  6  8  8 10  5  1  8  8  6  5  6 10  6  8  6  5\n",
            "  1  5 10  5  5  8  1  1  5 10  1  1  6  6  1  8  5  6  1  1  6  1  5  1\n",
            "  5  6  6  1  6  1  1  6  6 10  5 10  1  1  8 10  1  5  6  1 10 10 10  5\n",
            "  1  6  8  6  1  6  1  5  1  8 10  5  8  1 10  8  6  5  1  8  1  5  8  5\n",
            " 10  8  5  8  1  1  1 10  5 10 10  6]\n",
            "              precision    recall  f1-score   support\n",
            "\n",
            "           0       0.00      0.00      0.00         1\n",
            "           1       0.85      0.72      0.78        96\n",
            "           2       0.00      0.00      0.00         3\n",
            "           3       0.00      0.00      0.00         1\n",
            "           4       0.00      0.00      0.00         2\n",
            "           5       0.68      1.00      0.81        42\n",
            "           6       0.48      1.00      0.65        28\n",
            "           7       0.00      0.00      0.00         3\n",
            "           8       0.55      0.94      0.69        31\n",
            "           9       0.00      0.00      0.00        32\n",
            "          10       0.87      0.64      0.74        61\n",
            "\n",
            "    accuracy                           0.69       300\n",
            "   macro avg       0.31      0.39      0.33       300\n",
            "weighted avg       0.65      0.69      0.64       300\n",
            "\n"
          ]
        },
        {
          "name": "stderr",
          "output_type": "stream",
          "text": [
            "/usr/local/lib/python3.10/dist-packages/sklearn/metrics/_classification.py:1344: UndefinedMetricWarning: Precision and F-score are ill-defined and being set to 0.0 in labels with no predicted samples. Use `zero_division` parameter to control this behavior.\n",
            "  _warn_prf(average, modifier, msg_start, len(result))\n",
            "/usr/local/lib/python3.10/dist-packages/sklearn/metrics/_classification.py:1344: UndefinedMetricWarning: Precision and F-score are ill-defined and being set to 0.0 in labels with no predicted samples. Use `zero_division` parameter to control this behavior.\n",
            "  _warn_prf(average, modifier, msg_start, len(result))\n",
            "/usr/local/lib/python3.10/dist-packages/sklearn/metrics/_classification.py:1344: UndefinedMetricWarning: Precision and F-score are ill-defined and being set to 0.0 in labels with no predicted samples. Use `zero_division` parameter to control this behavior.\n",
            "  _warn_prf(average, modifier, msg_start, len(result))\n",
            "/usr/local/lib/python3.10/dist-packages/sklearn/metrics/_classification.py:1344: UndefinedMetricWarning: Precision and F-score are ill-defined and being set to 0.0 in labels with no predicted samples. Use `zero_division` parameter to control this behavior.\n",
            "  _warn_prf(average, modifier, msg_start, len(result))\n",
            "/usr/local/lib/python3.10/dist-packages/sklearn/metrics/_classification.py:1344: UndefinedMetricWarning: Precision and F-score are ill-defined and being set to 0.0 in labels with no predicted samples. Use `zero_division` parameter to control this behavior.\n",
            "  _warn_prf(average, modifier, msg_start, len(result))\n",
            "/usr/local/lib/python3.10/dist-packages/sklearn/metrics/_classification.py:1344: UndefinedMetricWarning: Precision and F-score are ill-defined and being set to 0.0 in labels with no predicted samples. Use `zero_division` parameter to control this behavior.\n",
            "  _warn_prf(average, modifier, msg_start, len(result))\n"
          ]
        },
        {
          "data": {
            "image/png": "[encoded data removed]",
            "text/plain": [
              "<Figure size 800x600 with 1 Axes>"
            ]
          },
          "metadata": {},
          "output_type": "display_data"
        }
      ],
      "source": [
        "qsvc_prediction = qsvc.predict(x_test)\n",
        "\n",
        "print(qsvc_prediction)\n",
        "\n",
        "\n",
        "\n",
        "print(f\"{classification_report(y_test, qsvc_prediction)}\")\n",
        "report = classification_report(y_test,qsvc_prediction , output_dict=True)\n",
        "\n",
        "# Extract the recall rates for each class from the classification report\n",
        "recall_rates = {str(cls): report[str(cls)]['recall'] for cls in report.keys() if cls.isdigit()}\n",
        "\n",
        "# Convert the recall rates dictionary to a DataFrame for easier plotting\n",
        "import pandas as pd\n",
        "recall_df = pd.DataFrame.from_dict(recall_rates, orient='index', columns=['Recall'])\n",
        "\n",
        "# Sort the DataFrame by recall rates in descending order for a more informative plot\n",
        "recall_df.sort_values(by='Recall', ascending=False, inplace=True)\n",
        "\n",
        "# Create the bar plot\n",
        "plt.figure(figsize=(8, 6))\n",
        "plt.bar(recall_df.index, recall_df['Recall'])\n",
        "plt.title('Recall Rate for Each Class')\n",
        "plt.xlabel('Class Labels')\n",
        "plt.ylabel('Recall Rate')\n",
        "plt.xticks(rotation=45)  # Rotate the x-axis labels for better visibility\n",
        "plt.ylim(0, 1.0)  # Set the y-axis limits from 0 to 1\n",
        "plt.grid(axis='y')\n",
        "plt.show()\n"
      ]
    },
    {
      "cell_type": "markdown",
      "source": [
        "__Confusion Matrix__"
      ],
      "metadata": {
        "id": "eOJ5tnkj6Hnh"
      }
    },
    {
      "cell_type": "code",
      "execution_count": null,
      "metadata": {
        "colab": {
          "background_save": true
        },
        "id": "RQBjMS5SwhhK",
        "outputId": "c195e8cf-850b-481b-cb36-321ca66427d4"
      },
      "outputs": [
        {
          "data": {
            "image/png": "[encoded data removed]",
            "text/plain": [
              "<Figure size 800x600 with 2 Axes>"
            ]
          },
          "metadata": {},
          "output_type": "display_data"
        }
      ],
      "source": [
        "import seaborn as sns\n",
        "from sklearn.metrics import confusion_matrix\n",
        "cm = confusion_matrix(y_test, qsvc_prediction)\n",
        "\n",
        "# Create a heatmap to visualize the confusion matrix\n",
        "plt.figure(figsize=(8, 6))\n",
        "sns.heatmap(cm, annot=True, fmt='d', cmap='Blues')\n",
        "plt.title('Confusion Matrix')\n",
        "plt.xlabel('Predicted Labels')\n",
        "plt.ylabel('True Labels')\n",
        "plt.show()"
      ]
    }
  ],
  "metadata": {
    "colab": {
      "provenance": []
    },
    "kernelspec": {
      "display_name": "Python 3",
      "name": "python3"
    },
    "language_info": {
      "name": "python"
    }
  },
  "nbformat": 4,
  "nbformat_minor": 0
}